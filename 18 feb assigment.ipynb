{
 "cells": [
  {
   "cell_type": "code",
   "execution_count": 1,
   "id": "bb1e7076-087b-4a8a-8cf7-64ee196fee09",
   "metadata": {},
   "outputs": [],
   "source": [
    "# Q1. What is an API? Give an example, where an API is used in real life.\n",
    "\n",
    "# Ans = An API is a communication interface that allows two separate software \n",
    "# components to share data. An API operates as a bridge between internal \n",
    "# and external software operations, allowing for a fluid interchange of \n",
    "# data that frequently passes undetected by the end-user. Simply said,\n",
    "# an API acts as a virtual middleman, transferring data from one interface\n",
    "# , such as a mobile app, to another.\n",
    "\n",
    "# Pay with PayPal\n",
    "# Have you ever used PayPal to purchase directly from an eCommerce store? \n",
    "# That, too, is an API at work. The \"Pay with PayPal\" functionality, like \n",
    "# checking in with a social networking site, is done via APIs to ensure that\n",
    "# the end application can only do what it needs to accomplish without being\n",
    "# exposed to sensitive data or gaining access to unwelcome privileges."
   ]
  },
  {
   "cell_type": "code",
   "execution_count": 2,
   "id": "dea53e0a-9c75-42fb-a26b-33d9c2b9ff52",
   "metadata": {},
   "outputs": [],
   "source": [
    "# Q2. Give advantages and disadvantages of using API.\n",
    "\n",
    "# ans = The disadvantages to providing an API are,\n",
    "\n",
    "# Cost. Providing an API is expensive in terms of development time, ongoing maintenance, providing API documentation on your website and providing support to users of your API.\n",
    "# Security exposure. Adding an API adds another attack surface to your website.\n",
    "# You might not like the result or you may change business direction.\n",
    "\n",
    "\n",
    "# The main advantage of providing an API is that it allows your users to do more with your product or service (i.e. it increases the value of your product). This typically takes one of two forms -\n",
    "\n",
    "# an integration. An example of an integration is to push notifications from your product (such as CRM, Helpdesk) to a messaging tool such as Slack. In this way, if your customer uses Slack they can receive notifications without having to login directly to your system or check emails.\n",
    "# new functionality. In the early days of Twitter, some of the most popular Twitter clients were produced by third parties using the Twitter API. Twitter and its users benefited from the new functionality that was undertaken by other companies.\n"
   ]
  },
  {
   "cell_type": "code",
   "execution_count": 3,
   "id": "1fd786d9-932f-4f38-8852-e708e2dcaa3f",
   "metadata": {},
   "outputs": [],
   "source": [
    "# Q3. What is a Web API? Differentiate between API and Web API.\n",
    "\n",
    "# ans = \n",
    "# What is Web API? API stands for Application Programming Interface. A Web API\n",
    "# is an application programming interface for the Web. A Browser API can extend\n",
    "# the functionality of a web browser. A Server API can extend the functionality\n",
    "# of a web server.\n",
    "\n",
    "# Both APIs and web services are technologies that enable the transfer of \n",
    "# data between separate software applications. API is an interface that\n",
    "# exposes an application's data to outside software, whereas web applications\n",
    "# are one type of API with stricter requirements. These requirements include\n",
    "# network communication, SOAP as the primary protocol, and less accessibility \n",
    "# for the public. \n",
    "\n",
    "# While these definitions might seem quite nuanced, it's essential to comprehend\n",
    "# the subtle but important distinctions between web technologies. Armed with \n",
    "# this knowledge, you'll be well-equipped for discussions with developers and\n",
    "# better understand your product's integrations."
   ]
  },
  {
   "cell_type": "code",
   "execution_count": 4,
   "id": "9578a7a9-13f4-4470-9974-4e12fb705b11",
   "metadata": {},
   "outputs": [],
   "source": [
    "# Q4. Explain REST and SOAP Architecture. Mention shortcomings of SOAP.\n",
    "\n",
    "# ans = REST and SOAP are 2 different approaches to online data transmission.\n",
    "# Specifically, both define how to build application programming interfaces \n",
    "# (APIs), which allow data to be communicated between web applications. \n",
    "# Representational state transfer (REST) is a set of architectural principles.\n",
    "# Simple object access protocol (SOAP) is an official protocol maintained by\n",
    "# the World Wide Web Consortium (W3C). The main difference is that SOAP is a \n",
    "# protocol while REST is not."
   ]
  },
  {
   "cell_type": "code",
   "execution_count": null,
   "id": "856e64d7-4014-4a81-8f52-08ac21cafe90",
   "metadata": {},
   "outputs": [],
   "source": [
    "# Q5. Differentiate between REST and SOAP.\n",
    "\n",
    "# ans = While SOAP and REST share similarities over the HTTP protocol, SOAP \n",
    "# is a more rigid set of messaging patterns than REST. The rules in SOAP are\n",
    "# important because we can't achieve any level of standardization without them.\n",
    "# REST as an architecture style does not require processing and is naturally\n",
    "# more flexible."
   ]
  }
 ],
 "metadata": {
  "kernelspec": {
   "display_name": "Python 3 (ipykernel)",
   "language": "python",
   "name": "python3"
  },
  "language_info": {
   "codemirror_mode": {
    "name": "ipython",
    "version": 3
   },
   "file_extension": ".py",
   "mimetype": "text/x-python",
   "name": "python",
   "nbconvert_exporter": "python",
   "pygments_lexer": "ipython3",
   "version": "3.10.8"
  }
 },
 "nbformat": 4,
 "nbformat_minor": 5
}
